{
 "cells": [
  {
   "cell_type": "code",
   "execution_count": 1,
   "id": "1b8dc567-d426-46aa-aa3a-944177335f6b",
   "metadata": {},
   "outputs": [],
   "source": [
    "import pandas as pd\n",
    "import seaborn as sns\n",
    "import matplotlib.pyplot as plt\n",
    "from normalization import min_max\n",
    "from grader import grader"
   ]
  },
  {
   "cell_type": "code",
   "execution_count": 2,
   "id": "1946e938-8547-44cd-a712-a0f6cc2d12ad",
   "metadata": {},
   "outputs": [],
   "source": [
    "dataframe = pd.read_csv('star_classification.csv')"
   ]
  },
  {
   "cell_type": "code",
   "execution_count": 3,
   "id": "afa1e0ec-f8e3-41cd-9f3e-fd688d14a86f",
   "metadata": {},
   "outputs": [
    {
     "data": {
      "text/html": [
       "<div>\n",
       "<style scoped>\n",
       "    .dataframe tbody tr th:only-of-type {\n",
       "        vertical-align: middle;\n",
       "    }\n",
       "\n",
       "    .dataframe tbody tr th {\n",
       "        vertical-align: top;\n",
       "    }\n",
       "\n",
       "    .dataframe thead th {\n",
       "        text-align: right;\n",
       "    }\n",
       "</style>\n",
       "<table border=\"1\" class=\"dataframe\">\n",
       "  <thead>\n",
       "    <tr style=\"text-align: right;\">\n",
       "      <th></th>\n",
       "      <th>obj_ID</th>\n",
       "      <th>alpha</th>\n",
       "      <th>delta</th>\n",
       "      <th>u</th>\n",
       "      <th>g</th>\n",
       "      <th>r</th>\n",
       "      <th>i</th>\n",
       "      <th>z</th>\n",
       "      <th>run_ID</th>\n",
       "      <th>rerun_ID</th>\n",
       "      <th>cam_col</th>\n",
       "      <th>field_ID</th>\n",
       "      <th>spec_obj_ID</th>\n",
       "      <th>class</th>\n",
       "      <th>redshift</th>\n",
       "      <th>plate</th>\n",
       "      <th>MJD</th>\n",
       "      <th>fiber_ID</th>\n",
       "    </tr>\n",
       "  </thead>\n",
       "  <tbody>\n",
       "    <tr>\n",
       "      <th>0</th>\n",
       "      <td>1.237661e+18</td>\n",
       "      <td>135.689107</td>\n",
       "      <td>32.494632</td>\n",
       "      <td>23.87882</td>\n",
       "      <td>22.27530</td>\n",
       "      <td>20.39501</td>\n",
       "      <td>19.16573</td>\n",
       "      <td>18.79371</td>\n",
       "      <td>3606</td>\n",
       "      <td>301</td>\n",
       "      <td>2</td>\n",
       "      <td>79</td>\n",
       "      <td>6.543777e+18</td>\n",
       "      <td>GALAXY</td>\n",
       "      <td>0.634794</td>\n",
       "      <td>5812</td>\n",
       "      <td>56354</td>\n",
       "      <td>171</td>\n",
       "    </tr>\n",
       "    <tr>\n",
       "      <th>1</th>\n",
       "      <td>1.237665e+18</td>\n",
       "      <td>144.826101</td>\n",
       "      <td>31.274185</td>\n",
       "      <td>24.77759</td>\n",
       "      <td>22.83188</td>\n",
       "      <td>22.58444</td>\n",
       "      <td>21.16812</td>\n",
       "      <td>21.61427</td>\n",
       "      <td>4518</td>\n",
       "      <td>301</td>\n",
       "      <td>5</td>\n",
       "      <td>119</td>\n",
       "      <td>1.176014e+19</td>\n",
       "      <td>GALAXY</td>\n",
       "      <td>0.779136</td>\n",
       "      <td>10445</td>\n",
       "      <td>58158</td>\n",
       "      <td>427</td>\n",
       "    </tr>\n",
       "    <tr>\n",
       "      <th>2</th>\n",
       "      <td>1.237661e+18</td>\n",
       "      <td>142.188790</td>\n",
       "      <td>35.582444</td>\n",
       "      <td>25.26307</td>\n",
       "      <td>22.66389</td>\n",
       "      <td>20.60976</td>\n",
       "      <td>19.34857</td>\n",
       "      <td>18.94827</td>\n",
       "      <td>3606</td>\n",
       "      <td>301</td>\n",
       "      <td>2</td>\n",
       "      <td>120</td>\n",
       "      <td>5.152200e+18</td>\n",
       "      <td>GALAXY</td>\n",
       "      <td>0.644195</td>\n",
       "      <td>4576</td>\n",
       "      <td>55592</td>\n",
       "      <td>299</td>\n",
       "    </tr>\n",
       "    <tr>\n",
       "      <th>3</th>\n",
       "      <td>1.237663e+18</td>\n",
       "      <td>338.741038</td>\n",
       "      <td>-0.402828</td>\n",
       "      <td>22.13682</td>\n",
       "      <td>23.77656</td>\n",
       "      <td>21.61162</td>\n",
       "      <td>20.50454</td>\n",
       "      <td>19.25010</td>\n",
       "      <td>4192</td>\n",
       "      <td>301</td>\n",
       "      <td>3</td>\n",
       "      <td>214</td>\n",
       "      <td>1.030107e+19</td>\n",
       "      <td>GALAXY</td>\n",
       "      <td>0.932346</td>\n",
       "      <td>9149</td>\n",
       "      <td>58039</td>\n",
       "      <td>775</td>\n",
       "    </tr>\n",
       "    <tr>\n",
       "      <th>4</th>\n",
       "      <td>1.237680e+18</td>\n",
       "      <td>345.282593</td>\n",
       "      <td>21.183866</td>\n",
       "      <td>19.43718</td>\n",
       "      <td>17.58028</td>\n",
       "      <td>16.49747</td>\n",
       "      <td>15.97711</td>\n",
       "      <td>15.54461</td>\n",
       "      <td>8102</td>\n",
       "      <td>301</td>\n",
       "      <td>3</td>\n",
       "      <td>137</td>\n",
       "      <td>6.891865e+18</td>\n",
       "      <td>GALAXY</td>\n",
       "      <td>0.116123</td>\n",
       "      <td>6121</td>\n",
       "      <td>56187</td>\n",
       "      <td>842</td>\n",
       "    </tr>\n",
       "  </tbody>\n",
       "</table>\n",
       "</div>"
      ],
      "text/plain": [
       "         obj_ID       alpha      delta         u         g         r  \\\n",
       "0  1.237661e+18  135.689107  32.494632  23.87882  22.27530  20.39501   \n",
       "1  1.237665e+18  144.826101  31.274185  24.77759  22.83188  22.58444   \n",
       "2  1.237661e+18  142.188790  35.582444  25.26307  22.66389  20.60976   \n",
       "3  1.237663e+18  338.741038  -0.402828  22.13682  23.77656  21.61162   \n",
       "4  1.237680e+18  345.282593  21.183866  19.43718  17.58028  16.49747   \n",
       "\n",
       "          i         z  run_ID  rerun_ID  cam_col  field_ID   spec_obj_ID  \\\n",
       "0  19.16573  18.79371    3606       301        2        79  6.543777e+18   \n",
       "1  21.16812  21.61427    4518       301        5       119  1.176014e+19   \n",
       "2  19.34857  18.94827    3606       301        2       120  5.152200e+18   \n",
       "3  20.50454  19.25010    4192       301        3       214  1.030107e+19   \n",
       "4  15.97711  15.54461    8102       301        3       137  6.891865e+18   \n",
       "\n",
       "    class  redshift  plate    MJD  fiber_ID  \n",
       "0  GALAXY  0.634794   5812  56354       171  \n",
       "1  GALAXY  0.779136  10445  58158       427  \n",
       "2  GALAXY  0.644195   4576  55592       299  \n",
       "3  GALAXY  0.932346   9149  58039       775  \n",
       "4  GALAXY  0.116123   6121  56187       842  "
      ]
     },
     "execution_count": 3,
     "metadata": {},
     "output_type": "execute_result"
    }
   ],
   "source": [
    "dataframe.head()"
   ]
  },
  {
   "cell_type": "markdown",
   "id": "e7892a0f-5e9a-4c8b-ac15-051067dfe4be",
   "metadata": {},
   "source": [
    "    obj_ID = Object Identifier, the unique value that identifies the object in the image catalog used by the CAS\n",
    "    alpha = Right Ascension angle (at J2000 epoch)\n",
    "    delta = Declination angle (at J2000 epoch)\n",
    "    u = Ultraviolet filter in the photometric system\n",
    "    g = Green filter in the photometric system\n",
    "    r = Red filter in the photometric system\n",
    "    i = Near Infrared filter in the photometric system\n",
    "    z = Infrared filter in the photometric system\n",
    "    run_ID = Run Number used to identify the specific scan\n",
    "    rereun_ID = Rerun Number to specify how the image was processed\n",
    "    cam_col = Camera column to identify the scanline within the run\n",
    "    field_ID = Field number to identify each field\n",
    "    spec_obj_ID = Unique ID used for optical spectroscopic objects (this means that 2 different observations with the same spec_obj_ID must share the output class)\n",
    "    class = object class (galaxy, star or quasar object)\n",
    "    redshift = redshift value based on the increase in wavelength\n",
    "    plate = plate ID, identifies each plate in SDSS\n",
    "    MJD = Modified Julian Date, used to indicate when a given piece of SDSS data was taken\n",
    "    fiber_ID = fiber ID that identifies the fiber that pointed the light at the focal plane in each observation\n"
   ]
  },
  {
   "cell_type": "code",
   "execution_count": 4,
   "id": "b8d28002-a844-42b7-935a-116620f49659",
   "metadata": {},
   "outputs": [
    {
     "name": "stdout",
     "output_type": "stream",
     "text": [
      "<class 'pandas.core.frame.DataFrame'>\n",
      "RangeIndex: 100000 entries, 0 to 99999\n",
      "Data columns (total 18 columns):\n",
      " #   Column       Non-Null Count   Dtype  \n",
      "---  ------       --------------   -----  \n",
      " 0   obj_ID       100000 non-null  float64\n",
      " 1   alpha        100000 non-null  float64\n",
      " 2   delta        100000 non-null  float64\n",
      " 3   u            100000 non-null  float64\n",
      " 4   g            100000 non-null  float64\n",
      " 5   r            100000 non-null  float64\n",
      " 6   i            100000 non-null  float64\n",
      " 7   z            100000 non-null  float64\n",
      " 8   run_ID       100000 non-null  int64  \n",
      " 9   rerun_ID     100000 non-null  int64  \n",
      " 10  cam_col      100000 non-null  int64  \n",
      " 11  field_ID     100000 non-null  int64  \n",
      " 12  spec_obj_ID  100000 non-null  float64\n",
      " 13  class        100000 non-null  object \n",
      " 14  redshift     100000 non-null  float64\n",
      " 15  plate        100000 non-null  int64  \n",
      " 16  MJD          100000 non-null  int64  \n",
      " 17  fiber_ID     100000 non-null  int64  \n",
      "dtypes: float64(10), int64(7), object(1)\n",
      "memory usage: 13.7+ MB\n"
     ]
    }
   ],
   "source": [
    "dataframe.info()"
   ]
  },
  {
   "cell_type": "code",
   "execution_count": 5,
   "id": "6e4323dd-1417-487b-9bd7-b464f27ed1e5",
   "metadata": {},
   "outputs": [
    {
     "name": "stdout",
     "output_type": "stream",
     "text": [
      "             obj_ID          alpha          delta              u  \\\n",
      "count  1.000000e+05  100000.000000  100000.000000  100000.000000   \n",
      "mean   1.237665e+18     177.629117      24.135305      21.980468   \n",
      "std    8.438560e+12      96.502241      19.644665      31.769291   \n",
      "min    1.237646e+18       0.005528     -18.785328   -9999.000000   \n",
      "25%    1.237659e+18     127.518222       5.146771      20.352353   \n",
      "50%    1.237663e+18     180.900700      23.645922      22.179135   \n",
      "75%    1.237668e+18     233.895005      39.901550      23.687440   \n",
      "max    1.237681e+18     359.999810      83.000519      32.781390   \n",
      "\n",
      "                   g              r              i              z  \\\n",
      "count  100000.000000  100000.000000  100000.000000  100000.000000   \n",
      "mean       20.531387      19.645762      19.084854      18.668810   \n",
      "std        31.750292       1.854760       1.757895      31.728152   \n",
      "min     -9999.000000       9.822070       9.469903   -9999.000000   \n",
      "25%        18.965230      18.135828      17.732285      17.460677   \n",
      "50%        21.099835      20.125290      19.405145      19.004595   \n",
      "75%        22.123767      21.044785      20.396495      19.921120   \n",
      "max        31.602240      29.571860      32.141470      29.383740   \n",
      "\n",
      "              run_ID  rerun_ID        cam_col       field_ID   spec_obj_ID  \\\n",
      "count  100000.000000  100000.0  100000.000000  100000.000000  1.000000e+05   \n",
      "mean     4481.366060     301.0       3.511610     186.130520  5.783882e+18   \n",
      "std      1964.764593       0.0       1.586912     149.011073  3.324016e+18   \n",
      "min       109.000000     301.0       1.000000      11.000000  2.995191e+17   \n",
      "25%      3187.000000     301.0       2.000000      82.000000  2.844138e+18   \n",
      "50%      4188.000000     301.0       4.000000     146.000000  5.614883e+18   \n",
      "75%      5326.000000     301.0       5.000000     241.000000  8.332144e+18   \n",
      "max      8162.000000     301.0       6.000000     989.000000  1.412694e+19   \n",
      "\n",
      "            redshift          plate            MJD       fiber_ID  \n",
      "count  100000.000000  100000.000000  100000.000000  100000.000000  \n",
      "mean        0.576661    5137.009660   55588.647500     449.312740  \n",
      "std         0.730707    2952.303351    1808.484233     272.498404  \n",
      "min        -0.009971     266.000000   51608.000000       1.000000  \n",
      "25%         0.054517    2526.000000   54234.000000     221.000000  \n",
      "50%         0.424173    4987.000000   55868.500000     433.000000  \n",
      "75%         0.704154    7400.250000   56777.000000     645.000000  \n",
      "max         7.011245   12547.000000   58932.000000    1000.000000  \n"
     ]
    }
   ],
   "source": [
    "print(dataframe.describe())"
   ]
  },
  {
   "cell_type": "code",
   "execution_count": 6,
   "id": "70ec355d-4a55-4b36-9708-407fd9698535",
   "metadata": {
    "scrolled": true
   },
   "outputs": [
    {
     "name": "stdout",
     "output_type": "stream",
     "text": [
      "<class 'pandas.core.frame.DataFrame'>\n",
      "RangeIndex: 100000 entries, 0 to 99999\n",
      "Data columns (total 8 columns):\n",
      " #   Column    Non-Null Count   Dtype  \n",
      "---  ------    --------------   -----  \n",
      " 0   alpha     100000 non-null  float64\n",
      " 1   delta     100000 non-null  float64\n",
      " 2   u         100000 non-null  float64\n",
      " 3   g         100000 non-null  float64\n",
      " 4   r         100000 non-null  float64\n",
      " 5   i         100000 non-null  float64\n",
      " 6   z         100000 non-null  float64\n",
      " 7   redshift  100000 non-null  float64\n",
      "dtypes: float64(8)\n",
      "memory usage: 6.1 MB\n"
     ]
    }
   ],
   "source": [
    "y=dataframe[['class']]\n",
    "x = dataframe[['alpha','delta','u', 'g', 'r', 'i', 'z', 'redshift']]\n",
    "x_normalised= min_max(x.values.tolist(),['alpha','delta','u', 'g', 'r', 'i', 'z', 'redshift']);\n",
    "x_norm=pd.DataFrame(x_normalised)\n",
    "x_norm.info()"
   ]
  },
  {
   "cell_type": "code",
   "execution_count": 7,
   "id": "f8b7b05e-f0f6-47f2-a5a2-adac48769b89",
   "metadata": {},
   "outputs": [
    {
     "data": {
      "image/png": "[encoded data removed]",
      "text/plain": [
       "<Figure size 1000x600 with 2 Axes>"
      ]
     },
     "metadata": {},
     "output_type": "display_data"
    }
   ],
   "source": [
    "plt.figure(figsize=(10,6))\n",
    "sns.heatmap(x_norm.corr(), annot=True,cmap='jet',fmt='.2f') #jet,copper, coolwarm\n",
    "plt.title('Correlation matrix')\n",
    "plt.show()"
   ]
  },
  {
   "cell_type": "code",
   "execution_count": 8,
   "id": "13172be1-196b-4e26-b1d5-b6827bf9f314",
   "metadata": {},
   "outputs": [
    {
     "name": "stderr",
     "output_type": "stream",
     "text": [
      "/tmp/ipykernel_8628/2058514629.py:2: FutureWarning: Downcasting behavior in `replace` is deprecated and will be removed in a future version. To retain the old behavior, explicitly call `result.infer_objects(copy=False)`. To opt-in to the future behavior, set `pd.set_option('future.no_silent_downcasting', True)`\n",
      "  y_mapped=y.replace(class_map)\n"
     ]
    },
    {
     "data": {
      "text/plain": [
       "class\n",
       "0    59445\n",
       "3    59445\n",
       "1    59445\n",
       "Name: count, dtype: int64"
      ]
     },
     "execution_count": 8,
     "metadata": {},
     "output_type": "execute_result"
    }
   ],
   "source": [
    "class_map={\"GALAXY\":0b00,\"STAR\":0b01,\"QSO\":0b11}\n",
    "y_mapped=y.replace(class_map)\n",
    "from imblearn.over_sampling import SMOTE #Synthetic Minority Over-sampling Technique.\n",
    "sm = SMOTE(random_state = 30, k_neighbors = 100)\n",
    "x_resampled, y_resampled = sm.fit_resample(x_norm,y_mapped)\n",
    "y_resampled['class'].value_counts()"
   ]
  },
  {
   "cell_type": "code",
   "execution_count": 9,
   "id": "12633bc7-91a4-457c-8e3c-f1b1f647b07d",
   "metadata": {},
   "outputs": [
    {
     "data": {
      "text/plain": [
       "class\n",
       "GALAXY    59445\n",
       "STAR      21594\n",
       "QSO       18961\n",
       "Name: count, dtype: int64"
      ]
     },
     "execution_count": 9,
     "metadata": {},
     "output_type": "execute_result"
    }
   ],
   "source": [
    "y['class'].value_counts()"
   ]
  },
  {
   "cell_type": "markdown",
   "id": "cd512844-bbb1-477c-a28b-decf3d27216f",
   "metadata": {},
   "source": [
    "I will try oversampling to ensure underrepresentation of QSOs and stars."
   ]
  },
  {
   "cell_type": "code",
   "execution_count": 10,
   "id": "af66eb4e-17a4-45a9-8905-7721130a06eb",
   "metadata": {},
   "outputs": [],
   "source": [
    "from sklearn.model_selection import train_test_split\n",
    "x_train,y_train, x_test , y_test = train_test_split(x_norm, y_mapped, test_size=0.2, random_state = 10)"
   ]
  },
  {
   "cell_type": "code",
   "execution_count": 11,
   "id": "cd753184-ff91-4495-b542-ec4f53addbcf",
   "metadata": {},
   "outputs": [
    {
     "data": {
      "text/plain": [
       "'\\nfrom knn import knn\\nneighbours = 500\\nknn_classifier = knn(neighbours)\\nknn_classifier.fit(x_train,y_train)\\ny_predicted = knn_classifier.predict(x_test)\\ngrader(y_predicted, y_test)\\n\\nneighbours = 250\\nknn_classifier.fit(x_train,y_train,neighbours)\\ny_predicted = knn_classifier.predict(x_test)\\ngrader(y_predicted, y_test)\\n\\nneighbours = 50\\nknn_classifier.fit(x_train,y_train,neighbours)\\ny_predicted = knn_classifier.predict(x_test)\\ngrader(y_predicted, y_test)\\n'"
      ]
     },
     "execution_count": 11,
     "metadata": {},
     "output_type": "execute_result"
    }
   ],
   "source": [
    "\"\"\"\n",
    "from knn import knn\n",
    "neighbours = 500\n",
    "knn_classifier = knn(neighbours)\n",
    "knn_classifier.fit(x_train,y_train)\n",
    "y_predicted = knn_classifier.predict(x_test)\n",
    "grader(y_predicted, y_test)\n",
    "\n",
    "neighbours = 250\n",
    "knn_classifier.fit(x_train,y_train,neighbours)\n",
    "y_predicted = knn_classifier.predict(x_test)\n",
    "grader(y_predicted, y_test)\n",
    "\n",
    "neighbours = 50\n",
    "knn_classifier.fit(x_train,y_train,neighbours)\n",
    "y_predicted = knn_classifier.predict(x_test)\n",
    "grader(y_predicted, y_test)\n",
    "\"\"\""
   ]
  },
  {
   "cell_type": "code",
   "execution_count": 12,
   "id": "b6499942-298c-4b44-b5d0-0ef1bdebea2f",
   "metadata": {},
   "outputs": [
    {
     "name": "stdout",
     "output_type": "stream",
     "text": [
      "1/10\n",
      "2/10\n",
      "3/10\n",
      "4/10\n",
      "5/10\n",
      "6/10\n",
      "7/10\n",
      "8/10\n",
      "9/10\n"
     ]
    },
    {
     "ename": "NameError",
     "evalue": "name 'solution_list' is not defined",
     "output_type": "error",
     "traceback": [
      "\u001b[0;31m---------------------------------------------------------------------------\u001b[0m",
      "\u001b[0;31mNameError\u001b[0m                                 Traceback (most recent call last)",
      "Cell \u001b[0;32mIn[12], line 6\u001b[0m\n\u001b[1;32m      3\u001b[0m max_number_of_neighbours \u001b[38;5;241m=\u001b[39m \u001b[38;5;241m10\u001b[39m\n\u001b[1;32m      4\u001b[0m max_index, solutions \u001b[38;5;241m=\u001b[39m findBestNeighboursNumber(x_train, x_test, y_train, y_test, max_number_of_neighbours)\n\u001b[0;32m----> 6\u001b[0m plt\u001b[38;5;241m.\u001b[39mplot(\u001b[38;5;28mrange\u001b[39m(\u001b[38;5;241m1\u001b[39m,max_number_of_neighbours),\u001b[43msolution_list\u001b[49m)\n\u001b[1;32m      7\u001b[0m \u001b[38;5;28mprint\u001b[39m(\u001b[38;5;124mf\u001b[39m\u001b[38;5;124m\"\u001b[39m\u001b[38;5;124mBest solution is for k = \u001b[39m\u001b[38;5;132;01m{\u001b[39;00mmax_index\u001b[38;5;241m+\u001b[39m\u001b[38;5;241m1\u001b[39m\u001b[38;5;132;01m}\u001b[39;00m\u001b[38;5;124m and achieve score of \u001b[39m\u001b[38;5;132;01m{\u001b[39;00msolutions(max_index)\u001b[38;5;241m*\u001b[39m\u001b[38;5;241m100\u001b[39m\u001b[38;5;132;01m}\u001b[39;00m\u001b[38;5;124m %\u001b[39m\u001b[38;5;124m\"\u001b[39m)\n",
      "\u001b[0;31mNameError\u001b[0m: name 'solution_list' is not defined"
     ]
    }
   ],
   "source": [
    "from sklearn.neighbors import KNeighborsClassifier\n",
    "from bestNeighborsNumber import findBestNeighboursNumber\n",
    "max_number_of_neighbours = 30\n",
    "max_index, solutions = findBestNeighboursNumber(x_train, x_test, y_train, y_test, max_number_of_neighbours)"
   ]
  },
  {
   "cell_type": "code",
   "execution_count": 14,
   "id": "443271b3-2b7b-4289-a6c2-f9de9475c463",
   "metadata": {},
   "outputs": [
    {
     "name": "stdout",
     "output_type": "stream",
     "text": [
      "Best solution is for k = 3 and achieve score of 93.26 %\n"
     ]
    },
    {
     "data": {
      "image/png": "[encoded data removed]",
      "text/plain": [
       "<Figure size 640x480 with 1 Axes>"
      ]
     },
     "metadata": {},
     "output_type": "display_data"
    }
   ],
   "source": [
    "plt.plot(range(1,max_number_of_neighbours),solutions)\n",
    "print(f\"Best solution is for k = {max_index+1} and achieved score of {solutions[max_index]*100} %\")"
   ]
  },
  {
   "cell_type": "code",
   "execution_count": null,
   "id": "03044faf-e5a8-4891-b67b-15399248fa8d",
   "metadata": {},
   "outputs": [],
   "source": [
    "\"\"\"import numpy as np\n",
    "\n",
    "class naive_bayes:\n",
    "    def __init__(self):\n",
    "        self.mean={}\n",
    "        self.variancy={}\n",
    "        self.class_priority={}\n",
    "        \n",
    "    def fit(self, x_training,y_training):\n",
    "        self.classes = np.unique(y_training) #pobiera etykiety\n",
    "        for c in self.classes:\n",
    "            x_c = x_train[y==c]\n",
    "            self.class_priority[c]=len(x_c)/len(x_training)\n",
    "            self.mean[c]=np.mean(x_c,axis=0)\n",
    "            self.variancy[c]=np.var(x_c,axis=0)\n",
    "            \n",
    "    def _gauss(self,x,mean,var): #var is variancy, not standard deviation!!!!\n",
    "        exponent = np.exp(-(x-mean)**2/(2*var))\n",
    "        return 1/np.sqrt(2*np.pi*var)*exponent\n",
    "                          \n",
    "    def _calculate_posterior(self,x): #prawdopodobieństwo wynikowe/złożone\n",
    "        posteriors={}\n",
    "        for c in self.classes:\n",
    "            prob=np.sum(self._gauss(x,self.mean[c],self.variancy[c]))#najczęściej jest to normalizowane logarytmem, tak samo posterior\n",
    "            posteriors[c]=self.class_priority[c]+prob\n",
    "        return(posteriors)\n",
    "\n",
    "    def predict(self,x_prediction):\n",
    "        predictions=[]\n",
    "        for x in x_prediction.values:\n",
    "            prob = self._calculate_posterior(x)\n",
    "            predictions.append(max(prob,key=prob.get)) #max nie zwróci klucza sam z siebie\n",
    "        return predictions\n",
    "        #podejmij decyzje\n",
    "\n",
    "my_nb_classifier=naive_bayes()\n",
    "my_nb_classifier.fit(x_train,y_train)\n",
    "y_pred=my_nb_classifier.predict(x_test)\n",
    "print(f\"Dokładność klasyfikatora wynosi {str(grader(y_test,y_pred))}\")\"\"\""
   ]
  },
  {
   "cell_type": "code",
   "execution_count": null,
   "id": "e1617076-6a76-4908-beaa-e7f42504304c",
   "metadata": {},
   "outputs": [],
   "source": [
    "from sklearn.naive_bayes import GaussianNB\n",
    "nb_classifier = GaussianNB()\n",
    "nb_classifier.fit(x_train,y_train)\n",
    "y_pred=nb_classifier.predict(x_test)\n",
    "print(f\"Achieved score {str(grader(y_test,y_pred))*100}\")"
   ]
  },
  {
   "cell_type": "code",
   "execution_count": null,
   "id": "c705b277-46fc-441b-ad30-76e9d2ea2936",
   "metadata": {},
   "outputs": [],
   "source": []
  }
 ],
 "metadata": {
  "kernelspec": {
   "display_name": "Python 3 (ipykernel)",
   "language": "python",
   "name": "python3"
  },
  "language_info": {
   "codemirror_mode": {
    "name": "ipython",
    "version": 3
   },
   "file_extension": ".py",
   "mimetype": "text/x-python",
   "name": "python",
   "nbconvert_exporter": "python",
   "pygments_lexer": "ipython3",
   "version": "3.10.12"
  }
 },
 "nbformat": 4,
 "nbformat_minor": 5
}
