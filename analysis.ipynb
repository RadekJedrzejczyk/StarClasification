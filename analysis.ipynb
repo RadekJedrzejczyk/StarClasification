{
 "cells": [
  {
   "cell_type": "code",
   "execution_count": 1,
   "id": "1b8dc567-d426-46aa-aa3a-944177335f6b",
   "metadata": {},
   "outputs": [],
   "source": [
    "import pandas as pd\n",
    "import seaborn as sns\n",
    "import matplotlib.pyplot as plt\n",
    "from normalization import min_max\n",
    "from grader import grader"
   ]
  },
  {
   "cell_type": "code",
   "execution_count": 2,
   "id": "1946e938-8547-44cd-a712-a0f6cc2d12ad",
   "metadata": {},
   "outputs": [],
   "source": [
    "dataframe = pd.read_csv('characters.csv')"
   ]
  },
  {
   "cell_type": "code",
   "execution_count": 3,
   "id": "afa1e0ec-f8e3-41cd-9f3e-fd688d14a86f",
   "metadata": {},
   "outputs": [
    {
     "data": {
      "text/html": [
       "<div>\n",
       "<style scoped>\n",
       "    .dataframe tbody tr th:only-of-type {\n",
       "        vertical-align: middle;\n",
       "    }\n",
       "\n",
       "    .dataframe tbody tr th {\n",
       "        vertical-align: top;\n",
       "    }\n",
       "\n",
       "    .dataframe thead th {\n",
       "        text-align: right;\n",
       "    }\n",
       "</style>\n",
       "<table border=\"1\" class=\"dataframe\">\n",
       "  <thead>\n",
       "    <tr style=\"text-align: right;\">\n",
       "      <th></th>\n",
       "      <th>name</th>\n",
       "      <th>height</th>\n",
       "      <th>mass</th>\n",
       "      <th>hair_color</th>\n",
       "      <th>skin_color</th>\n",
       "      <th>eye_color</th>\n",
       "      <th>birth_year</th>\n",
       "      <th>gender</th>\n",
       "      <th>homeworld</th>\n",
       "      <th>species</th>\n",
       "    </tr>\n",
       "  </thead>\n",
       "  <tbody>\n",
       "    <tr>\n",
       "      <th>0</th>\n",
       "      <td>Luke Skywalker</td>\n",
       "      <td>172.0</td>\n",
       "      <td>77</td>\n",
       "      <td>blond</td>\n",
       "      <td>fair</td>\n",
       "      <td>blue</td>\n",
       "      <td>19BBY</td>\n",
       "      <td>male</td>\n",
       "      <td>Tatooine</td>\n",
       "      <td>Human</td>\n",
       "    </tr>\n",
       "    <tr>\n",
       "      <th>1</th>\n",
       "      <td>C-3PO</td>\n",
       "      <td>167.0</td>\n",
       "      <td>75</td>\n",
       "      <td>NaN</td>\n",
       "      <td>gold</td>\n",
       "      <td>yellow</td>\n",
       "      <td>112BBY</td>\n",
       "      <td>NaN</td>\n",
       "      <td>Tatooine</td>\n",
       "      <td>Droid</td>\n",
       "    </tr>\n",
       "    <tr>\n",
       "      <th>2</th>\n",
       "      <td>R2-D2</td>\n",
       "      <td>96.0</td>\n",
       "      <td>32</td>\n",
       "      <td>NaN</td>\n",
       "      <td>white, blue</td>\n",
       "      <td>red</td>\n",
       "      <td>33BBY</td>\n",
       "      <td>NaN</td>\n",
       "      <td>Naboo</td>\n",
       "      <td>Droid</td>\n",
       "    </tr>\n",
       "    <tr>\n",
       "      <th>3</th>\n",
       "      <td>Darth Vader</td>\n",
       "      <td>202.0</td>\n",
       "      <td>136</td>\n",
       "      <td>none</td>\n",
       "      <td>white</td>\n",
       "      <td>yellow</td>\n",
       "      <td>41.9BBY</td>\n",
       "      <td>male</td>\n",
       "      <td>Tatooine</td>\n",
       "      <td>Human</td>\n",
       "    </tr>\n",
       "    <tr>\n",
       "      <th>4</th>\n",
       "      <td>Leia Organa</td>\n",
       "      <td>150.0</td>\n",
       "      <td>49</td>\n",
       "      <td>brown</td>\n",
       "      <td>light</td>\n",
       "      <td>brown</td>\n",
       "      <td>19BBY</td>\n",
       "      <td>female</td>\n",
       "      <td>Alderaan</td>\n",
       "      <td>Human</td>\n",
       "    </tr>\n",
       "  </tbody>\n",
       "</table>\n",
       "</div>"
      ],
      "text/plain": [
       "             name  height mass hair_color   skin_color eye_color birth_year  \\\n",
       "0  Luke Skywalker   172.0   77      blond         fair      blue      19BBY   \n",
       "1           C-3PO   167.0   75        NaN         gold    yellow     112BBY   \n",
       "2           R2-D2    96.0   32        NaN  white, blue       red      33BBY   \n",
       "3     Darth Vader   202.0  136       none        white    yellow    41.9BBY   \n",
       "4     Leia Organa   150.0   49      brown        light     brown      19BBY   \n",
       "\n",
       "   gender homeworld species  \n",
       "0    male  Tatooine   Human  \n",
       "1     NaN  Tatooine   Droid  \n",
       "2     NaN     Naboo   Droid  \n",
       "3    male  Tatooine   Human  \n",
       "4  female  Alderaan   Human  "
      ]
     },
     "execution_count": 3,
     "metadata": {},
     "output_type": "execute_result"
    }
   ],
   "source": [
    "dataframe.head()"
   ]
  },
  {
   "cell_type": "markdown",
   "id": "e7892a0f-5e9a-4c8b-ac15-051067dfe4be",
   "metadata": {},
   "source": [
    "name \t- we will reject this one\n",
    "height \n",
    "mass \n",
    "hair_color\n",
    "skin_color\n",
    "eye_color\n",
    "birth_year - we will also reject this one\n",
    "gender \t\n",
    "homeworld \t\n",
    "species"
   ]
  },
  {
   "cell_type": "code",
   "execution_count": 4,
   "id": "b8d28002-a844-42b7-935a-116620f49659",
   "metadata": {},
   "outputs": [
    {
     "name": "stdout",
     "output_type": "stream",
     "text": [
      "<class 'pandas.core.frame.DataFrame'>\n",
      "RangeIndex: 87 entries, 0 to 86\n",
      "Data columns (total 10 columns):\n",
      " #   Column      Non-Null Count  Dtype  \n",
      "---  ------      --------------  -----  \n",
      " 0   name        87 non-null     object \n",
      " 1   height      81 non-null     float64\n",
      " 2   mass        59 non-null     object \n",
      " 3   hair_color  81 non-null     object \n",
      " 4   skin_color  85 non-null     object \n",
      " 5   eye_color   84 non-null     object \n",
      " 6   birth_year  43 non-null     object \n",
      " 7   gender      84 non-null     object \n",
      " 8   homeworld   77 non-null     object \n",
      " 9   species     82 non-null     object \n",
      "dtypes: float64(1), object(9)\n",
      "memory usage: 6.9+ KB\n"
     ]
    }
   ],
   "source": [
    "dataframe.info()"
   ]
  },
  {
   "cell_type": "code",
   "execution_count": 5,
   "id": "6e4323dd-1417-487b-9bd7-b464f27ed1e5",
   "metadata": {},
   "outputs": [
    {
     "name": "stdout",
     "output_type": "stream",
     "text": [
      "           height\n",
      "count   81.000000\n",
      "mean   174.358025\n",
      "std     34.770429\n",
      "min     66.000000\n",
      "25%    167.000000\n",
      "50%    180.000000\n",
      "75%    191.000000\n",
      "max    264.000000\n"
     ]
    }
   ],
   "source": [
    "print(dataframe.describe())"
   ]
  },
  {
   "cell_type": "code",
   "execution_count": 6,
   "id": "70ec355d-4a55-4b36-9708-407fd9698535",
   "metadata": {},
   "outputs": [
    {
     "name": "stdout",
     "output_type": "stream",
     "text": [
      "Warning: non numerical data detected: nan type: <class 'float'>  => it was set as None\n",
      "Warning: non numerical data detected: 1,358 type: <class 'str'>  => it was set as None\n",
      "Warning: non numerical data detected: 78.2 type: <class 'str'>  => it was set as None\n",
      "Warning: non numerical data detected: nan type: <class 'float'>  => it was set as None\n",
      "Warning: non numerical data detected: nan type: <class 'float'>  => it was set as None\n",
      "Warning: non numerical data detected: nan type: <class 'float'>  => it was set as None\n",
      "Warning: non numerical data detected: nan type: <class 'float'>  => it was set as None\n",
      "Warning: non numerical data detected: nan type: <class 'float'>  => it was set as None\n",
      "Warning: non numerical data detected: nan type: <class 'float'>  => it was set as None\n",
      "Warning: non numerical data detected: nan type: <class 'float'>  => it was set as None\n",
      "Warning: non numerical data detected: nan type: <class 'float'>  => it was set as None\n",
      "Warning: non numerical data detected: nan type: <class 'float'>  => it was set as None\n",
      "Warning: non numerical data detected: nan type: <class 'float'>  => it was set as None\n",
      "Warning: non numerical data detected: nan type: <class 'float'>  => it was set as None\n",
      "Warning: non numerical data detected: nan type: <class 'float'>  => it was set as None\n",
      "Warning: non numerical data detected: nan type: <class 'float'>  => it was set as None\n",
      "Warning: non numerical data detected: nan type: <class 'float'>  => it was set as None\n",
      "Warning: non numerical data detected: nan type: <class 'float'>  => it was set as None\n",
      "Warning: non numerical data detected: nan type: <class 'float'>  => it was set as None\n",
      "Warning: non numerical data detected: nan type: <class 'float'>  => it was set as None\n",
      "Warning: non numerical data detected: 56.2 type: <class 'str'>  => it was set as None\n",
      "Warning: non numerical data detected: nan type: <class 'float'>  => it was set as None\n",
      "Warning: non numerical data detected: nan type: <class 'float'>  => it was set as None\n",
      "Warning: non numerical data detected: nan type: <class 'float'>  => it was set as None\n",
      "Warning: non numerical data detected: nan type: <class 'float'>  => it was set as None\n",
      "Warning: non numerical data detected: nan type: <class 'float'>  => it was set as None\n",
      "Warning: non numerical data detected: nan type: <class 'float'>  => it was set as None\n",
      "Warning: non numerical data detected: nan type: <class 'float'>  => it was set as None\n",
      "Warning: non numerical data detected: nan type: <class 'float'>  => it was set as None\n",
      "Warning: non numerical data detected: nan type: <class 'float'>  => it was set as None\n",
      "Warning: non numerical data detected: nan type: <class 'float'>  => it was set as None\n",
      "Warning: non numerical data detected: nan type: <class 'float'>  => it was set as None\n",
      "Warning: non numerical data detected: nan type: <class 'float'>  => it was set as None\n",
      "Warning: non numerical data detected: nan type: <class 'float'>  => it was set as None\n",
      "Warning: non numerical data detected: nan type: <class 'float'>  => it was set as None\n",
      "Warning: non numerical data detected: nan type: <class 'float'>  => it was set as None\n",
      "Warning: non numerical data detected: nan type: <class 'float'>  => it was set as None\n",
      "<class 'pandas.core.frame.DataFrame'>\n",
      "RangeIndex: 87 entries, 0 to 86\n",
      "Data columns (total 7 columns):\n",
      " #   Column      Non-Null Count  Dtype  \n",
      "---  ------      --------------  -----  \n",
      " 0   hair_color  87 non-null     object \n",
      " 1   skin_color  87 non-null     object \n",
      " 2   eye_color   87 non-null     object \n",
      " 3   gender      87 non-null     object \n",
      " 4   homeworld   87 non-null     object \n",
      " 5   height      87 non-null     float64\n",
      " 6   mass        87 non-null     float64\n",
      "dtypes: float64(2), object(5)\n",
      "memory usage: 4.9+ KB\n"
     ]
    },
    {
     "name": "stderr",
     "output_type": "stream",
     "text": [
      "/tmp/ipykernel_19479/2318440698.py:14: FutureWarning: Downcasting behavior in `replace` is deprecated and will be removed in a future version. To retain the old behavior, explicitly call `result.infer_objects(copy=False)`. To opt-in to the future behavior, set `pd.set_option('future.no_silent_downcasting', True)`\n",
      "  x.loc[:, data] = x[data].replace(data_map[data])\n",
      "/tmp/ipykernel_19479/2318440698.py:17: SettingWithCopyWarning: \n",
      "A value is trying to be set on a copy of a slice from a DataFrame.\n",
      "Try using .loc[row_indexer,col_indexer] = value instead\n",
      "\n",
      "See the caveats in the documentation: https://pandas.pydata.org/pandas-docs/stable/user_guide/indexing.html#returning-a-view-versus-a-copy\n",
      "  x[labels_known_for_normalisation]=x_norm\n",
      "/tmp/ipykernel_19479/2318440698.py:21: FutureWarning: Downcasting behavior in `replace` is deprecated and will be removed in a future version. To retain the old behavior, explicitly call `result.infer_objects(copy=False)`. To opt-in to the future behavior, set `pd.set_option('future.no_silent_downcasting', True)`\n",
      "  y_mapped=y.replace(solution_map)\n"
     ]
    },
    {
     "data": {
      "text/plain": [
       "species\n",
       "Human             35\n",
       "Droid              5\n",
       "Gungan             3\n",
       "Mirialan           2\n",
       "Wookiee            2\n",
       "Twi'lek            2\n",
       "Kaminoan           2\n",
       "Zabrak             2\n",
       "Quermian           1\n",
       "Kel Dor            1\n",
       "Chagrian           1\n",
       "Geonosian          1\n",
       "Clawdite           1\n",
       "Tholothian         1\n",
       "Besalisk           1\n",
       "Aleena             1\n",
       "Skakoan            1\n",
       "Muun               1\n",
       "Togruta            1\n",
       "Kaleesh            1\n",
       "Iktotchi           1\n",
       "Toong              1\n",
       "Nautolan           1\n",
       "Cerean             1\n",
       "Xexto              1\n",
       "Vulptereen         1\n",
       "Dug                1\n",
       "Toydarian          1\n",
       "Neimodian          1\n",
       "Sullustan          1\n",
       "Ewok               1\n",
       "Mon Calamari       1\n",
       "Trandoshan         1\n",
       "Yoda's species     1\n",
       "Hutt               1\n",
       "Rodian             1\n",
       "Pau'an             1\n",
       "Name: count, dtype: int64"
      ]
     },
     "execution_count": 6,
     "metadata": {},
     "output_type": "execute_result"
    }
   ],
   "source": [
    "from map_generator import generate_map\n",
    "label_searched = 'species'\n",
    "labels_known_for_mapping = ['hair_color' ,'skin_color',\t'eye_color'  ,\t'gender' ,\t'homeworld' ]\n",
    "labels_known_for_normalisation = ['height','mass' ]\n",
    "\n",
    "y=dataframe[[label_searched]]\n",
    "x = dataframe[labels_known_for_mapping+ labels_known_for_normalisation]\n",
    "\n",
    "data_map = {}\n",
    "for label in labels_known_for_mapping:\n",
    "    data_map[label]=  generate_map(x[label])\n",
    "\n",
    "for data in data_map:\n",
    "    x.loc[:, data] = x[data].replace(data_map[data])\n",
    "x_normalised= min_max(x[labels_known_for_normalisation].values.tolist(),labels_known_for_normalisation, nan_as_zero=True )\n",
    "x_norm=pd.DataFrame(x_normalised)\n",
    "x[labels_known_for_normalisation]=x_norm\n",
    "\n",
    "\n",
    "solution_map=generate_map(y[label_searched])\n",
    "y_mapped=y.replace(solution_map)\n",
    "\n",
    "x.info()\n",
    "y[label_searched].value_counts()"
   ]
  },
  {
   "cell_type": "code",
   "execution_count": 7,
   "id": "f8b7b05e-f0f6-47f2-a5a2-adac48769b89",
   "metadata": {},
   "outputs": [
    {
     "data": {
      "image/png": "[encoded data removed]",
      "text/plain": [
       "<Figure size 1000x600 with 2 Axes>"
      ]
     },
     "metadata": {},
     "output_type": "display_data"
    }
   ],
   "source": [
    "plt.figure(figsize=(10,6))\n",
    "sns.heatmap(x.corr(), annot=True,cmap='jet',fmt='.2f') #jet,copper, coolwarm\n",
    "plt.title('Correlation matrix')\n",
    "plt.show()"
   ]
  },
  {
   "cell_type": "code",
   "execution_count": 8,
   "id": "af66eb4e-17a4-45a9-8905-7721130a06eb",
   "metadata": {},
   "outputs": [],
   "source": [
    "from sklearn.model_selection import train_test_split\n",
    "x_train, x_test, y_train, y_test = train_test_split(x, y_mapped, test_size=0.2, random_state = 10)"
   ]
  },
  {
   "cell_type": "code",
   "execution_count": 9,
   "id": "b6499942-298c-4b44-b5d0-0ef1bdebea2f",
   "metadata": {},
   "outputs": [
    {
     "name": "stdout",
     "output_type": "stream",
     "text": [
      "1/30\n",
      "2/30\n",
      "3/30\n",
      "4/30\n",
      "5/30\n",
      "6/30\n",
      "7/30\n",
      "8/30\n",
      "9/30\n",
      "10/30\n",
      "11/30\n",
      "12/30\n",
      "13/30\n",
      "14/30\n",
      "15/30\n",
      "16/30\n",
      "17/30\n",
      "18/30\n",
      "19/30\n",
      "20/30\n",
      "21/30\n",
      "22/30\n",
      "23/30\n",
      "24/30\n",
      "25/30\n",
      "26/30\n",
      "27/30\n",
      "28/30\n",
      "29/30\n"
     ]
    }
   ],
   "source": [
    "from sklearn.neighbors import KNeighborsClassifier\n",
    "from bestNeighborsNumber import findBestNeighboursNumber\n",
    "max_number_of_neighbours = 30\n",
    "max_index, solutions = findBestNeighboursNumber(x_train, x_test, y_train, y_test, max_number_of_neighbours)"
   ]
  },
  {
   "cell_type": "code",
   "execution_count": 10,
   "id": "443271b3-2b7b-4289-a6c2-f9de9475c463",
   "metadata": {},
   "outputs": [
    {
     "name": "stdout",
     "output_type": "stream",
     "text": [
      "Best solution is for k = 7 and achieved score of 38.88888888888889 %\n"
     ]
    },
    {
     "data": {
      "image/png": "[encoded data removed]",
      "text/plain": [
       "<Figure size 640x480 with 1 Axes>"
      ]
     },
     "metadata": {},
     "output_type": "display_data"
    }
   ],
   "source": [
    "plt.plot(range(1,max_number_of_neighbours),solutions)\n",
    "print(f\"Best solution is for k = {max_index+1} and achieved score of {solutions[max_index]*100} %\")"
   ]
  },
  {
   "cell_type": "code",
   "execution_count": 11,
   "id": "e1617076-6a76-4908-beaa-e7f42504304c",
   "metadata": {},
   "outputs": [
    {
     "name": "stdout",
     "output_type": "stream",
     "text": [
      "Naive Bayes algotithm have achieved score of 33.33333333333333%\n"
     ]
    }
   ],
   "source": [
    "from sklearn.naive_bayes import GaussianNB\n",
    "nb_classifier = GaussianNB()\n",
    "nb_classifier.fit(x_train,y_train.values.ravel())\n",
    "y_pred=nb_classifier.predict(x_test)\n",
    "print(f\"Naive Bayes algotithm have achieved score of {nb_classifier.score(x_test,y_test)*100}%\")"
   ]
  }
 ],
 "metadata": {
  "kernelspec": {
   "display_name": "Python 3 (ipykernel)",
   "language": "python",
   "name": "python3"
  },
  "language_info": {
   "codemirror_mode": {
    "name": "ipython",
    "version": 3
   },
   "file_extension": ".py",
   "mimetype": "text/x-python",
   "name": "python",
   "nbconvert_exporter": "python",
   "pygments_lexer": "ipython3",
   "version": "3.10.12"
  }
 },
 "nbformat": 4,
 "nbformat_minor": 5
}
