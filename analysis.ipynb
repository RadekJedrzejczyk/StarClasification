{
 "cells": [
  {
   "cell_type": "code",
   "execution_count": 1,
   "id": "1b8dc567-d426-46aa-aa3a-944177335f6b",
   "metadata": {},
   "outputs": [],
   "source": [
    "import pandas as pd\n",
    "import seaborn as sns\n",
    "import matplotlib.pyplot as plt\n",
    "from normalization import min_max\n",
    "from grader import grader"
   ]
  },
  {
   "cell_type": "code",
   "execution_count": 2,
   "id": "1946e938-8547-44cd-a712-a0f6cc2d12ad",
   "metadata": {},
   "outputs": [],
   "source": [
    "dataframe = pd.read_csv('Star dataset to predict star types/star_class.csv')"
   ]
  },
  {
   "cell_type": "code",
   "execution_count": 3,
   "id": "afa1e0ec-f8e3-41cd-9f3e-fd688d14a86f",
   "metadata": {},
   "outputs": [
    {
     "data": {
      "text/html": [
       "<div>\n",
       "<style scoped>\n",
       "    .dataframe tbody tr th:only-of-type {\n",
       "        vertical-align: middle;\n",
       "    }\n",
       "\n",
       "    .dataframe tbody tr th {\n",
       "        vertical-align: top;\n",
       "    }\n",
       "\n",
       "    .dataframe thead th {\n",
       "        text-align: right;\n",
       "    }\n",
       "</style>\n",
       "<table border=\"1\" class=\"dataframe\">\n",
       "  <thead>\n",
       "    <tr style=\"text-align: right;\">\n",
       "      <th></th>\n",
       "      <th>Temperature (K)</th>\n",
       "      <th>Luminosity(L/Lo)</th>\n",
       "      <th>Radius(R/Ro)</th>\n",
       "      <th>Absolute magnitude(Mv)</th>\n",
       "      <th>Star type</th>\n",
       "      <th>Star color</th>\n",
       "      <th>Spectral Class</th>\n",
       "    </tr>\n",
       "  </thead>\n",
       "  <tbody>\n",
       "    <tr>\n",
       "      <th>0</th>\n",
       "      <td>3068</td>\n",
       "      <td>0.002400</td>\n",
       "      <td>0.1700</td>\n",
       "      <td>16.12</td>\n",
       "      <td>0</td>\n",
       "      <td>Red</td>\n",
       "      <td>M</td>\n",
       "    </tr>\n",
       "    <tr>\n",
       "      <th>1</th>\n",
       "      <td>3042</td>\n",
       "      <td>0.000500</td>\n",
       "      <td>0.1542</td>\n",
       "      <td>16.60</td>\n",
       "      <td>0</td>\n",
       "      <td>Red</td>\n",
       "      <td>M</td>\n",
       "    </tr>\n",
       "    <tr>\n",
       "      <th>2</th>\n",
       "      <td>2600</td>\n",
       "      <td>0.000300</td>\n",
       "      <td>0.1020</td>\n",
       "      <td>18.70</td>\n",
       "      <td>0</td>\n",
       "      <td>Red</td>\n",
       "      <td>M</td>\n",
       "    </tr>\n",
       "    <tr>\n",
       "      <th>3</th>\n",
       "      <td>2800</td>\n",
       "      <td>0.000200</td>\n",
       "      <td>0.1600</td>\n",
       "      <td>16.65</td>\n",
       "      <td>0</td>\n",
       "      <td>Red</td>\n",
       "      <td>M</td>\n",
       "    </tr>\n",
       "    <tr>\n",
       "      <th>4</th>\n",
       "      <td>1939</td>\n",
       "      <td>0.000138</td>\n",
       "      <td>0.1030</td>\n",
       "      <td>20.06</td>\n",
       "      <td>0</td>\n",
       "      <td>Red</td>\n",
       "      <td>M</td>\n",
       "    </tr>\n",
       "  </tbody>\n",
       "</table>\n",
       "</div>"
      ],
      "text/plain": [
       "   Temperature (K)  Luminosity(L/Lo)  Radius(R/Ro)  Absolute magnitude(Mv)  \\\n",
       "0             3068          0.002400        0.1700                   16.12   \n",
       "1             3042          0.000500        0.1542                   16.60   \n",
       "2             2600          0.000300        0.1020                   18.70   \n",
       "3             2800          0.000200        0.1600                   16.65   \n",
       "4             1939          0.000138        0.1030                   20.06   \n",
       "\n",
       "   Star type Star color Spectral Class  \n",
       "0          0        Red              M  \n",
       "1          0        Red              M  \n",
       "2          0        Red              M  \n",
       "3          0        Red              M  \n",
       "4          0        Red              M  "
      ]
     },
     "execution_count": 3,
     "metadata": {},
     "output_type": "execute_result"
    }
   ],
   "source": [
    "dataframe.head()"
   ]
  },
  {
   "cell_type": "markdown",
   "id": "e7892a0f-5e9a-4c8b-ac15-051067dfe4be",
   "metadata": {},
   "source": [
    "name \t- we will reject this one\n",
    "height \n",
    "mass \n",
    "hair_color\n",
    "skin_color\n",
    "eye_color\n",
    "birth_year - we will also reject this one\n",
    "gender \t\n",
    "homeworld \t\n",
    "species"
   ]
  },
  {
   "cell_type": "code",
   "execution_count": 4,
   "id": "b8d28002-a844-42b7-935a-116620f49659",
   "metadata": {},
   "outputs": [
    {
     "name": "stdout",
     "output_type": "stream",
     "text": [
      "<class 'pandas.core.frame.DataFrame'>\n",
      "RangeIndex: 240 entries, 0 to 239\n",
      "Data columns (total 7 columns):\n",
      " #   Column                  Non-Null Count  Dtype  \n",
      "---  ------                  --------------  -----  \n",
      " 0   Temperature (K)         240 non-null    int64  \n",
      " 1   Luminosity(L/Lo)        240 non-null    float64\n",
      " 2   Radius(R/Ro)            240 non-null    float64\n",
      " 3   Absolute magnitude(Mv)  240 non-null    float64\n",
      " 4   Star type               240 non-null    int64  \n",
      " 5   Star color              240 non-null    object \n",
      " 6   Spectral Class          240 non-null    object \n",
      "dtypes: float64(3), int64(2), object(2)\n",
      "memory usage: 13.2+ KB\n"
     ]
    }
   ],
   "source": [
    "dataframe.info()"
   ]
  },
  {
   "cell_type": "code",
   "execution_count": 5,
   "id": "6e4323dd-1417-487b-9bd7-b464f27ed1e5",
   "metadata": {},
   "outputs": [
    {
     "name": "stdout",
     "output_type": "stream",
     "text": [
      "       Temperature (K)  Luminosity(L/Lo)  Radius(R/Ro)  \\\n",
      "count       240.000000        240.000000    240.000000   \n",
      "mean      10497.462500     107188.361635    237.157781   \n",
      "std        9552.425037     179432.244940    517.155763   \n",
      "min        1939.000000          0.000080      0.008400   \n",
      "25%        3344.250000          0.000865      0.102750   \n",
      "50%        5776.000000          0.070500      0.762500   \n",
      "75%       15055.500000     198050.000000     42.750000   \n",
      "max       40000.000000     849420.000000   1948.500000   \n",
      "\n",
      "       Absolute magnitude(Mv)   Star type  \n",
      "count              240.000000  240.000000  \n",
      "mean                 4.382396    2.500000  \n",
      "std                 10.532512    1.711394  \n",
      "min                -11.920000    0.000000  \n",
      "25%                 -6.232500    1.000000  \n",
      "50%                  8.313000    2.500000  \n",
      "75%                 13.697500    4.000000  \n",
      "max                 20.060000    5.000000  \n"
     ]
    }
   ],
   "source": [
    "print(dataframe.describe())"
   ]
  },
  {
   "cell_type": "code",
   "execution_count": 6,
   "id": "70ec355d-4a55-4b36-9708-407fd9698535",
   "metadata": {},
   "outputs": [
    {
     "name": "stdout",
     "output_type": "stream",
     "text": [
      "Star color  Temperature (K)  Luminosity(L/Lo)  Radius(R/Ro)\n",
      "0           0.000000         6.828189e-11      0.000049        1\n",
      "            0.017367         2.590003e-10      0.000048        1\n",
      "6           0.390111         2.904688e-01      0.031815        1\n",
      "            0.390189         1.554002e-09      0.000002        1\n",
      "            0.398860         2.766594e-01      0.042593        1\n",
      "                                                              ..\n",
      "0           0.042406         1.707047e-01      0.679496        1\n",
      "            0.042852         3.767276e-01      0.759558        1\n",
      "            0.042957         2.354548e-01      0.045672        1\n",
      "            0.042984         1.448047e-01      0.023090        1\n",
      "18          0.184073         4.473631e-05      0.001272        1\n",
      "Name: count, Length: 240, dtype: int64\n",
      "Star type\n",
      "0    40\n",
      "1    40\n",
      "2    40\n",
      "3    40\n",
      "4    40\n",
      "5    40\n",
      "Name: count, dtype: int64\n"
     ]
    },
    {
     "name": "stderr",
     "output_type": "stream",
     "text": [
      "/tmp/ipykernel_40845/949350346.py:14: FutureWarning: Downcasting behavior in `replace` is deprecated and will be removed in a future version. To retain the old behavior, explicitly call `result.infer_objects(copy=False)`. To opt-in to the future behavior, set `pd.set_option('future.no_silent_downcasting', True)`\n",
      "  x.loc[:, data] = x[data].replace(data_map[data])\n",
      "/tmp/ipykernel_40845/949350346.py:17: SettingWithCopyWarning: \n",
      "A value is trying to be set on a copy of a slice from a DataFrame.\n",
      "Try using .loc[row_indexer,col_indexer] = value instead\n",
      "\n",
      "See the caveats in the documentation: https://pandas.pydata.org/pandas-docs/stable/user_guide/indexing.html#returning-a-view-versus-a-copy\n",
      "  x[labels_known_for_normalisation]=x_norm\n"
     ]
    }
   ],
   "source": [
    "from map_generator import generate_map\n",
    "label_searched = 'Star type'\n",
    "labels_known_for_mapping = ['Star color' ]\n",
    "labels_known_for_normalisation = ['Temperature (K)','Luminosity(L/Lo)', 'Radius(R/Ro)' ]\n",
    "\n",
    "y=dataframe[[label_searched]]\n",
    "x = dataframe[labels_known_for_mapping+ labels_known_for_normalisation]\n",
    "\n",
    "data_map = {}\n",
    "for label in labels_known_for_mapping:\n",
    "    data_map[label]=  generate_map(x[label])\n",
    "\n",
    "for data in data_map:\n",
    "    x.loc[:, data] = x[data].replace(data_map[data])\n",
    "x_normalised= min_max(x[labels_known_for_normalisation].values.tolist(),labels_known_for_normalisation, nan_as_zero=True )\n",
    "x_norm=pd.DataFrame(x_normalised)\n",
    "x[labels_known_for_normalisation]=x_norm\n",
    "\n",
    "\n",
    "solution_map=generate_map(y[label_searched])\n",
    "y_mapped=y.replace(solution_map)\n",
    "all_x_labels = labels_known_for_mapping+labels_known_for_normalisation\n",
    "print(x[all_x_labels].value_counts())\n",
    "print(y[label_searched].value_counts())\n",
    "\n",
    "random_seed=120\n",
    "size_of_test_split=0.25"
   ]
  },
  {
   "cell_type": "code",
   "execution_count": 7,
   "id": "f8b7b05e-f0f6-47f2-a5a2-adac48769b89",
   "metadata": {},
   "outputs": [
    {
     "data": {
      "image/png": "[encoded data removed]",
      "text/plain": [
       "<Figure size 1000x600 with 2 Axes>"
      ]
     },
     "metadata": {},
     "output_type": "display_data"
    }
   ],
   "source": [
    "plt.figure(figsize=(10,6))\n",
    "sns.heatmap(x.corr(), annot=True,cmap='jet',fmt='.2f') #jet,copper, coolwarm\n",
    "plt.title('Correlation matrix')\n",
    "plt.show()"
   ]
  },
  {
   "cell_type": "code",
   "execution_count": 8,
   "id": "af66eb4e-17a4-45a9-8905-7721130a06eb",
   "metadata": {},
   "outputs": [
    {
     "data": {
      "text/html": [
       "<div>\n",
       "<style scoped>\n",
       "    .dataframe tbody tr th:only-of-type {\n",
       "        vertical-align: middle;\n",
       "    }\n",
       "\n",
       "    .dataframe tbody tr th {\n",
       "        vertical-align: top;\n",
       "    }\n",
       "\n",
       "    .dataframe thead th {\n",
       "        text-align: right;\n",
       "    }\n",
       "</style>\n",
       "<table border=\"1\" class=\"dataframe\">\n",
       "  <thead>\n",
       "    <tr style=\"text-align: right;\">\n",
       "      <th></th>\n",
       "      <th>Temperature (K)</th>\n",
       "      <th>Luminosity(L/Lo)</th>\n",
       "      <th>Radius(R/Ro)</th>\n",
       "    </tr>\n",
       "  </thead>\n",
       "  <tbody>\n",
       "    <tr>\n",
       "      <th>count</th>\n",
       "      <td>60.000000</td>\n",
       "      <td>6.000000e+01</td>\n",
       "      <td>60.000000</td>\n",
       "    </tr>\n",
       "    <tr>\n",
       "      <th>mean</th>\n",
       "      <td>0.237989</td>\n",
       "      <td>1.319947e-01</td>\n",
       "      <td>0.109806</td>\n",
       "    </tr>\n",
       "    <tr>\n",
       "      <th>std</th>\n",
       "      <td>0.268172</td>\n",
       "      <td>2.445007e-01</td>\n",
       "      <td>0.255036</td>\n",
       "    </tr>\n",
       "    <tr>\n",
       "      <th>min</th>\n",
       "      <td>0.017367</td>\n",
       "      <td>7.063643e-11</td>\n",
       "      <td>0.000000</td>\n",
       "    </tr>\n",
       "    <tr>\n",
       "      <th>25%</th>\n",
       "      <td>0.038136</td>\n",
       "      <td>1.167561e-09</td>\n",
       "      <td>0.000059</td>\n",
       "    </tr>\n",
       "    <tr>\n",
       "      <th>50%</th>\n",
       "      <td>0.052271</td>\n",
       "      <td>8.290363e-08</td>\n",
       "      <td>0.000321</td>\n",
       "    </tr>\n",
       "    <tr>\n",
       "      <th>75%</th>\n",
       "      <td>0.422637</td>\n",
       "      <td>1.771797e-01</td>\n",
       "      <td>0.012056</td>\n",
       "    </tr>\n",
       "    <tr>\n",
       "      <th>max</th>\n",
       "      <td>1.000000</td>\n",
       "      <td>1.000000e+00</td>\n",
       "      <td>0.845778</td>\n",
       "    </tr>\n",
       "  </tbody>\n",
       "</table>\n",
       "</div>"
      ],
      "text/plain": [
       "       Temperature (K)  Luminosity(L/Lo)  Radius(R/Ro)\n",
       "count        60.000000      6.000000e+01     60.000000\n",
       "mean          0.237989      1.319947e-01      0.109806\n",
       "std           0.268172      2.445007e-01      0.255036\n",
       "min           0.017367      7.063643e-11      0.000000\n",
       "25%           0.038136      1.167561e-09      0.000059\n",
       "50%           0.052271      8.290363e-08      0.000321\n",
       "75%           0.422637      1.771797e-01      0.012056\n",
       "max           1.000000      1.000000e+00      0.845778"
      ]
     },
     "execution_count": 8,
     "metadata": {},
     "output_type": "execute_result"
    }
   ],
   "source": [
    "from sklearn.model_selection import train_test_split\n",
    "x_train, x_test, y_train, y_test = train_test_split(x, y_mapped, test_size=size_of_test_split, random_state = random_seed)\n",
    "x_test.describe()\n"
   ]
  },
  {
   "cell_type": "code",
   "execution_count": 9,
   "id": "49bb4743-6329-4301-96ed-60304665bed1",
   "metadata": {},
   "outputs": [
    {
     "data": {
      "text/plain": [
       "array([4, 5, 3, 2, 0, 1])"
      ]
     },
     "execution_count": 9,
     "metadata": {},
     "output_type": "execute_result"
    }
   ],
   "source": [
    "y_train[label_searched].unique()"
   ]
  },
  {
   "cell_type": "code",
   "execution_count": 10,
   "id": "b6499942-298c-4b44-b5d0-0ef1bdebea2f",
   "metadata": {},
   "outputs": [
    {
     "name": "stdout",
     "output_type": "stream",
     "text": [
      "1/60\n",
      "2/60\n",
      "3/60\n",
      "4/60\n",
      "5/60\n",
      "6/60\n",
      "7/60\n",
      "8/60\n",
      "9/60\n",
      "10/60\n",
      "11/60\n",
      "12/60\n",
      "13/60\n",
      "14/60\n",
      "15/60\n",
      "16/60\n",
      "17/60\n",
      "18/60\n",
      "19/60\n",
      "20/60\n",
      "21/60\n",
      "22/60\n",
      "23/60\n",
      "24/60\n",
      "25/60\n",
      "26/60\n",
      "27/60\n",
      "28/60\n",
      "29/60\n",
      "30/60\n",
      "31/60\n",
      "32/60\n",
      "33/60\n",
      "34/60\n",
      "35/60\n",
      "36/60\n",
      "37/60\n",
      "38/60\n",
      "39/60\n",
      "40/60\n",
      "41/60\n",
      "42/60\n",
      "43/60\n",
      "44/60\n",
      "45/60\n",
      "46/60\n",
      "47/60\n",
      "48/60\n",
      "49/60\n",
      "50/60\n",
      "51/60\n",
      "52/60\n",
      "53/60\n",
      "54/60\n",
      "55/60\n",
      "56/60\n",
      "57/60\n",
      "58/60\n",
      "59/60\n"
     ]
    }
   ],
   "source": [
    "from knn import knn\n",
    "from bestNeighborsNumber import findBestNeighboursNumber\n",
    "max_number_of_neighbours = 60\n",
    "max_index, solutions = findBestNeighboursNumber(x_train, x_test, y_train, y_test, max_number_of_neighbours,label_searched)"
   ]
  },
  {
   "cell_type": "code",
   "execution_count": 11,
   "id": "443271b3-2b7b-4289-a6c2-f9de9475c463",
   "metadata": {},
   "outputs": [
    {
     "name": "stdout",
     "output_type": "stream",
     "text": [
      "Best solution is for k = 12 and achieved score of [86.66666667] %\n"
     ]
    },
    {
     "data": {
      "image/png": "[encoded data removed]",
      "text/plain": [
       "<Figure size 640x480 with 1 Axes>"
      ]
     },
     "metadata": {},
     "output_type": "display_data"
    }
   ],
   "source": [
    "plt.plot(range(1,max_number_of_neighbours ),solutions)\n",
    "plt.xlabel('Liczba sąsiadów')\n",
    "plt.ylabel('Stosunek poprawnych odpowiedzi')\n",
    "print(f\"Best solution is for k = {max_index+1} and achieved score of {solutions[max_index]*100} %\")"
   ]
  },
  {
   "cell_type": "code",
   "execution_count": 12,
   "id": "e1617076-6a76-4908-beaa-e7f42504304c",
   "metadata": {},
   "outputs": [
    {
     "name": "stdout",
     "output_type": "stream",
     "text": [
      "Naive Bayes algotithm have achieved score of 85.0%\n"
     ]
    }
   ],
   "source": [
    "from sklearn.naive_bayes import GaussianNB\n",
    "nb_classifier = GaussianNB()\n",
    "nb_classifier.fit(x_train,y_train.values.ravel())\n",
    "y_pred=nb_classifier.predict(x_test)\n",
    "print(f\"Naive Bayes algotithm have achieved score of {nb_classifier.score(x_test,y_test)*100}%\")"
   ]
  }
 ],
 "metadata": {
  "kernelspec": {
   "display_name": "Python 3 (ipykernel)",
   "language": "python",
   "name": "python3"
  },
  "language_info": {
   "codemirror_mode": {
    "name": "ipython",
    "version": 3
   },
   "file_extension": ".py",
   "mimetype": "text/x-python",
   "name": "python",
   "nbconvert_exporter": "python",
   "pygments_lexer": "ipython3",
   "version": "3.10.12"
  }
 },
 "nbformat": 4,
 "nbformat_minor": 5
}
